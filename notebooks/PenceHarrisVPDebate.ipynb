{
 "cells": [
  {
   "cell_type": "code",
   "execution_count": 11,
   "metadata": {},
   "outputs": [
    {
     "data": {
      "text/html": [
       "<style>.container { width:98% !important; }</style>"
      ],
      "text/plain": [
       "<IPython.core.display.HTML object>"
      ]
     },
     "metadata": {},
     "output_type": "display_data"
    },
    {
     "name": "stderr",
     "output_type": "stream",
     "text": [
      "/Users/jasonkessler/anaconda3/envs/py38/lib/python3.7/site-packages/tqdm/std.py:658: FutureWarning: The Panel class is removed from pandas. Accessing it from the top-level namespace will also be removed in the next version\n",
      "  from pandas import Panel\n"
     ]
    }
   ],
   "source": [
    "import pyate\n",
    "import pandas as pd\n",
    "import numpy as np\n",
    "import scattertext as st\n",
    "import spacy\n",
    "import requests\n",
    "from bs4 import BeautifulSoup\n",
    "from tqdm.notebook import tqdm\n",
    "import sys\n",
    "import pyate\n",
    "\n",
    "from IPython.display import IFrame\n",
    "from IPython.core.display import display, HTML\n",
    "display(HTML(\"<style>.container { width:98% !important; }</style>\"))\n",
    "tqdm.pandas()\n",
    "\n",
    "# Bingo card-specific libraries\n",
    "sys.path.append('../src/')\n",
    "\n",
    "from bingocardgenerator.square_getter import SquareGetter\n",
    "from bingocardgenerator.card_maker import write_card\n"
   ]
  },
  {
   "cell_type": "code",
   "execution_count": null,
   "metadata": {},
   "outputs": [],
   "source": []
  },
  {
   "cell_type": "code",
   "execution_count": 12,
   "metadata": {},
   "outputs": [],
   "source": [
    "assert st.version >= [0, 0, 2, 70]"
   ]
  },
  {
   "cell_type": "code",
   "execution_count": 13,
   "metadata": {},
   "outputs": [],
   "source": [
    "def parse_url(url):\n",
    "    data = []\n",
    "    soup = BeautifulSoup(requests.get(url).content, 'html.parser')\n",
    "    try:\n",
    "        for p in soup.find('div', attrs={'class': 'fl-callout-content'}).findAll('p'):\n",
    "            raw = p.text.strip()\n",
    "            if raw == '': continue\n",
    "            content = '\\n'.join(raw.split('\\n')[1:])\n",
    "            speaker = raw.split('\\n')[0].split(':')[0]\n",
    "            time = raw.split('\\n')[0].split(':', 1)[1].strip()\n",
    "            time = time[1:-1]\n",
    "            if len(time) == 5: \n",
    "                time = '00:' + time\n",
    "            data.append({'Speaker': speaker, 'Time': time, 'Text': content, 'URL': url})\n",
    "    except:\n",
    "        print(f'Cannot parse {url}')\n",
    "    return data"
   ]
  },
  {
   "cell_type": "code",
   "execution_count": 14,
   "metadata": {},
   "outputs": [],
   "source": [
    "regenerate_data = False\n",
    "if regenerate_data:\n",
    "    harris_urls = [\n",
    "        'https://www.rev.com/blog/transcripts/kamala-harris-voter-mobilization-event-speech-transcript-in-nevada-october-2',\n",
    "        'https://www.rev.com/blog/transcripts/kamala-harris-campaign-roundtable-transcript-in-north-carolina-september-28',\n",
    "        'https://www.rev.com/blog/transcripts/kamala-harris-speech-transcript-on-trumps-scotus-nominee-the-2020-race-september-28',\n",
    "        'https://www.rev.com/blog/transcripts/naacp-national-convention-with-kamala-harris-transcript-september-25',\n",
    "        'https://www.rev.com/blog/transcripts/kamala-harris-shop-talk-campaign-visit-detroit-michigan-transcript-september-22',\n",
    "        'https://www.rev.com/blog/transcripts/democratic-debate-transcript-las-vegas-nevada-debate',\n",
    "        'https://www.rev.com/blog/transcripts/new-hampshire-democratic-debate-transcript',\n",
    "        'https://www.rev.com/blog/transcripts/january-iowa-democratic-debate-transcript',\n",
    "        'https://www.rev.com/blog/transcripts/transcript-of-july-democratic-debate-2nd-round-night-2-full-transcript-july-31-2019',\n",
    "        'https://www.rev.com/blog/transcripts/democratic-debate-transcript-houston-september-12-2019',\n",
    "        'https://www.rev.com/blog/transcripts/october-democratic-debate-transcript-4th-debate-from-ohio',\n",
    "        'https://www.rev.com/blog/transcripts/november-democratic-debate-transcript-atlanta-debate-transcript',\n",
    "        'https://www.rev.com/blog/transcripts/december-democratic-debate-transcript-sixth-debate-from-los-angeles',\n",
    "        'https://www.rev.com/blog/transcripts/transcript-of-july-democratic-debate-night-1-full-transcript-july-30-2019'\n",
    "\n",
    "    ]\n",
    "    data = []\n",
    "    for url in harris_urls:\n",
    "        data += parse_url(url)\n",
    "\n",
    "    pence_urls = [\n",
    "        'https://www.rev.com/blog/transcripts/mike-pence-faith-in-leadership-speech-transcript-october-1',\n",
    "        'https://www.rev.com/blog/transcripts/mike-pence-carter-lake-iowa-campaign-visit-speech-transcript-october-1',\n",
    "        'https://www.rev.com/blog/transcripts/mike-pence-gilford-nh-campaign-speech-transcript-september-22',\n",
    "        'https://www.rev.com/blog/transcripts/mike-pence-coronavirus-safety-in-nursing-homes-roundtable-transcript-september-17',\n",
    "        'https://www.rev.com/blog/transcripts/mike-pence-workers-for-trump-event-speech-transcript-zanesville-ohio-september-16',\n",
    "        'https://www.rev.com/blog/transcripts/mike-pence-campaign-speech-transcript-janesville-wisconsin-september-14',\n",
    "        'https://www.rev.com/blog/transcripts/mike-pence-speech-at-vmi-transcript-september-10',\n",
    "        'https://www.rev.com/blog/transcripts/mike-pence-speech-right-to-life-event-transcript-september-3',\n",
    "        'https://www.rev.com/blog/transcripts/mike-pence-workers-for-trump-event-speech-transcript-september-1'\n",
    "    ]\n",
    "    for url in pence_urls:\n",
    "        data += parse_url(url)    \n",
    "\n",
    "    vpdebate_2016 = open('../data/vpdebate_2016.txt').read()\n",
    "    speaker = None\n",
    "    debatedata = []\n",
    "    for line in vpdebate_2016.strip().split('\\n'):\n",
    "        if not line.strip(): continue\n",
    "        if line.startswith('PENCE:') or line.startswith('KAINE:') or line.startswith('QUIJANO'):\n",
    "            speaker = line.split(':')[0]\n",
    "            line = line.split(':', 1)[1]\n",
    "        if speaker == 'PENCE':\n",
    "            debatedata.append({'Speaker': 'PENCE', 'Time': None, 'Text': line.strip(), 'URL': 'https://www.debates.org/voter-education/debate-transcripts/october-4-2016-debate-transcript/'})\n",
    "    data += debatedata\n",
    "    df = pd.DataFrame(data)\n",
    "    pence_harris_df = df[\n",
    "        df.Speaker.str.lower().apply(lambda x: 'pence' in x or 'harris' in x)\n",
    "    ].assign(\n",
    "        Name = lambda df: df.Speaker.str.lower().apply(\n",
    "            lambda x: 'Pence' if 'pence' in x else 'Harris'\n",
    "        ),\n",
    "        Parse = lambda df: df.Text.apply(st.whitespace_nlp_with_sentences)\n",
    "    )\n",
    "    pence_harris_df.to_csv('../data/pence_harris_predebate_corpus.csv', index=False)\n",
    "else:\n",
    "    pence_harris_df = pd.read_csv('../data/pence_harris_predebate_corpus.csv').assign(\n",
    "        Parse = lambda df: df.Text.apply(st.whitespace_nlp_with_sentences)\n",
    "    )"
   ]
  },
  {
   "cell_type": "code",
   "execution_count": null,
   "metadata": {},
   "outputs": [],
   "source": []
  },
  {
   "cell_type": "code",
   "execution_count": 15,
   "metadata": {},
   "outputs": [],
   "source": [
    "corpus = st.CorpusFromParsedDocuments(\n",
    "    pence_harris_df, \n",
    "    parsed_col='Parse', \n",
    "    category_col='Name', \n",
    "    feats_from_spacy_doc=st.PyatePhrases(pyate.combo_basic)\n",
    ").build()"
   ]
  },
  {
   "cell_type": "code",
   "execution_count": null,
   "metadata": {},
   "outputs": [],
   "source": []
  },
  {
   "cell_type": "code",
   "execution_count": 21,
   "metadata": {},
   "outputs": [
    {
     "name": "stderr",
     "output_type": "stream",
     "text": [
      "/Users/jasonkessler/anaconda3/envs/py38/lib/python3.7/site-packages/scipy-1.4.1-py3.7-macosx-10.9-x86_64.egg/scipy/sparse/base.py:599: RuntimeWarning: invalid value encountered in true_divide\n",
      "  return np.true_divide(self.todense(), other)\n",
      "/Users/jasonkessler/anaconda3/envs/py38/lib/python3.7/site-packages/scipy-1.4.1-py3.7-macosx-10.9-x86_64.egg/scipy/sparse/base.py:599: RuntimeWarning: invalid value encountered in true_divide\n",
      "  return np.true_divide(self.todense(), other)\n"
     ]
    },
    {
     "data": {
      "text/plain": [
       "['Pence: more years',\n",
       " 'Harris: criminal justice system',\n",
       " 'Pence: law enforcement',\n",
       " 'Harris: civil rights',\n",
       " 'Pence: american people',\n",
       " 'Harris: public schools',\n",
       " 'Pence: american history',\n",
       " 'Harris: home ownership',\n",
       " 'Pence: armed forces',\n",
       " 'Harris: excessive force',\n",
       " 'Pence: major cities',\n",
       " 'Harris: safe communities',\n",
       " 'Pence: american energy',\n",
       " 'Harris: black women',\n",
       " 'Pence: short years',\n",
       " 'Harris: mental health care',\n",
       " 'Pence: american workers',\n",
       " 'Harris: black woman',\n",
       " 'Pence: federal red tape',\n",
       " 'Harris: public health',\n",
       " 'Pence: radical left',\n",
       " 'Harris: many ways',\n",
       " 'Pence: fair trade',\n",
       " 'Harris: equal pay',\n",
       " 'Pence: great depression']"
      ]
     },
     "execution_count": 21,
     "metadata": {},
     "output_type": "execute_result"
    }
   ],
   "source": [
    "bingo_card_squares = SquareGetter(corpus).generate_squares(shuffle=False)\n",
    "bingo_card_squares"
   ]
  },
  {
   "cell_type": "code",
   "execution_count": 22,
   "metadata": {},
   "outputs": [
    {
     "data": {
      "text/plain": [
       "['Pence: american energy',\n",
       " 'Harris: criminal justice system',\n",
       " 'Pence: law enforcement',\n",
       " 'Harris: civil rights',\n",
       " 'Pence: american people',\n",
       " 'Harris: public schools',\n",
       " 'Pence: american history',\n",
       " 'Harris: home ownership',\n",
       " 'Pence: armed forces',\n",
       " 'Harris: excessive force',\n",
       " 'Pence: major cities',\n",
       " 'Harris: safe communities',\n",
       " 'Free Space: Pence: four more years',\n",
       " 'Harris: black women',\n",
       " 'Pence: short years',\n",
       " 'Harris: mental health care',\n",
       " 'Pence: american workers',\n",
       " 'Harris: black woman',\n",
       " 'Pence: federal red tape',\n",
       " 'Harris: public health',\n",
       " 'Pence: radical left',\n",
       " 'Harris: many ways',\n",
       " 'Pence: fair trade',\n",
       " 'Harris: equal pay',\n",
       " 'Pence: great depression']"
      ]
     },
     "execution_count": 22,
     "metadata": {},
     "output_type": "execute_result"
    }
   ],
   "source": [
    "# Swap in free space\n",
    "bingo_card_squares[0] = bingo_card_squares[12]\n",
    "bingo_card_squares[12] = 'Free Space: Pence: four more years' # The free space\n",
    "bingo_card_squares"
   ]
  },
  {
   "cell_type": "code",
   "execution_count": 23,
   "metadata": {},
   "outputs": [],
   "source": [
    "html = write_card(card_title = 'Automatically Created 2020 VP Debate Bingo Card',\n",
    "                  card_subtitle = 'blah',\n",
    "                  squares=bingo_card_squares)\n"
   ]
  },
  {
   "cell_type": "code",
   "execution_count": null,
   "metadata": {},
   "outputs": [],
   "source": []
  },
  {
   "cell_type": "code",
   "execution_count": 24,
   "metadata": {},
   "outputs": [
    {
     "data": {
      "text/html": [
       "\n",
       "        <iframe\n",
       "            width=\"1300\"\n",
       "            height=\"700\"\n",
       "            src=\"vpdebate2020.html\"\n",
       "            frameborder=\"0\"\n",
       "            allowfullscreen\n",
       "        ></iframe>\n",
       "        "
      ],
      "text/plain": [
       "<IPython.lib.display.IFrame at 0x12e613590>"
      ]
     },
     "execution_count": 24,
     "metadata": {},
     "output_type": "execute_result"
    }
   ],
   "source": [
    "fn = 'vpdebate2020.html'\n",
    "open(fn, 'w').write(html)\n",
    "IFrame(src=fn, width = 1300, height=700)\n"
   ]
  },
  {
   "cell_type": "code",
   "execution_count": null,
   "metadata": {},
   "outputs": [],
   "source": []
  }
 ],
 "metadata": {
  "kernelspec": {
   "display_name": "py38",
   "language": "python",
   "name": "py38"
  },
  "language_info": {
   "codemirror_mode": {
    "name": "ipython",
    "version": 3
   },
   "file_extension": ".py",
   "mimetype": "text/x-python",
   "name": "python",
   "nbconvert_exporter": "python",
   "pygments_lexer": "ipython3",
   "version": "3.7.6"
  }
 },
 "nbformat": 4,
 "nbformat_minor": 4
}
